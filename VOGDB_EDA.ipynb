{
 "cells": [
  {
   "cell_type": "markdown",
   "metadata": {},
   "source": [
    "# VOGDB EDA\n",
    "Exploring VOGs from [VOGDB](http://www.vogdb.org/download).\n"
   ]
  },
  {
   "cell_type": "code",
   "execution_count": 1,
   "metadata": {},
   "outputs": [],
   "source": [
    "%matplotlib inline\n",
    "import warnings\n",
    "warnings.simplefilter(action='ignore', category=FutureWarning)\n",
    "import pandas as pd\n",
    "import numpy as np\n",
    "import matplotlib.pyplot as plt\n",
    "import seaborn as sns\n",
    "sns.set_style(\"whitegrid\")"
   ]
  },
  {
   "cell_type": "markdown",
   "metadata": {},
   "source": [
    "## Load and view VOGDB files\n",
    "* **vog.members.tsv.gz**, Tab separated file of VOGs and the comma separated lists of their member protein ids.\n",
    "* **vog.annotations.tsv.gz**, Tab separated file of VOGs and their consensus functional annotations (preferrably from Swissprot annotations, if not available then the annotations from RefSeq were used).\n",
    "* **vog.lca.tsv.gz**, Tab separated file of VOGs and the taxonomic lineage of the last common ancestor (LCA) of member genomes. Genomes with unclassified taxonomic lineages have not been used for LCA determination, which can result in VOG without LCA (if all proteins of a VOG are from unclassified lineages). The numbers of genomes per VOG and LCA, as well as the total numbers of genomes in the LCA are given."
   ]
  },
  {
   "cell_type": "code",
   "execution_count": 2,
   "metadata": {},
   "outputs": [],
   "source": [
    "# Path to VOGDB files\n",
    "vogdb_files = '/home/alepfu/Desktop/VOGDB_files/'\n",
    "\n",
    "# Filenames\n",
    "vogdb_file_members = 'vog.members.tsv'\n",
    "vogdb_file_annotations = 'vog.annotations.tsv'\n",
    "vogdb_file_lca = 'vog.lca.tsv'\n",
    "\n",
    "# Load data\n",
    "vogdb_members_df = pd.read_csv(vogdb_files + vogdb_file_members, sep='\\t')\n",
    "vogdb_annotations_df = pd.read_csv(vogdb_files + vogdb_file_annotations, sep='\\t')\n",
    "vogdb_lca_df = pd.read_csv(vogdb_files + vogdb_file_lca, sep='\\t')"
   ]
  },
  {
   "cell_type": "code",
   "execution_count": 3,
   "metadata": {},
   "outputs": [
    {
     "name": "stdout",
     "output_type": "stream",
     "text": [
      "Number of VOGs: 25400\n"
     ]
    }
   ],
   "source": [
    "n_vogs = vogdb_members_df.shape[0]\n",
    "print('Number of VOGs:', n_vogs)"
   ]
  },
  {
   "cell_type": "markdown",
   "metadata": {},
   "source": [
    "## VOGDB members"
   ]
  },
  {
   "cell_type": "code",
   "execution_count": 4,
   "metadata": {},
   "outputs": [
    {
     "data": {
      "text/html": [
       "<div>\n",
       "<style scoped>\n",
       "    .dataframe tbody tr th:only-of-type {\n",
       "        vertical-align: middle;\n",
       "    }\n",
       "\n",
       "    .dataframe tbody tr th {\n",
       "        vertical-align: top;\n",
       "    }\n",
       "\n",
       "    .dataframe thead th {\n",
       "        text-align: right;\n",
       "    }\n",
       "</style>\n",
       "<table border=\"1\" class=\"dataframe\">\n",
       "  <thead>\n",
       "    <tr style=\"text-align: right;\">\n",
       "      <th></th>\n",
       "      <th>#GroupName</th>\n",
       "      <th>ProteinCount</th>\n",
       "      <th>SpeciesCount</th>\n",
       "      <th>FunctionalCategory</th>\n",
       "      <th>ProteinIDs</th>\n",
       "    </tr>\n",
       "  </thead>\n",
       "  <tbody>\n",
       "    <tr>\n",
       "      <th>0</th>\n",
       "      <td>VOG00001</td>\n",
       "      <td>743</td>\n",
       "      <td>36</td>\n",
       "      <td>Xh</td>\n",
       "      <td>1560514.YP_009094638.1,1720526.YP_009310212.1,...</td>\n",
       "    </tr>\n",
       "    <tr>\n",
       "      <th>1</th>\n",
       "      <td>VOG00002</td>\n",
       "      <td>569</td>\n",
       "      <td>69</td>\n",
       "      <td>Xh</td>\n",
       "      <td>10506.NP_049038.1,1269028.YP_007354781.1,10245...</td>\n",
       "    </tr>\n",
       "    <tr>\n",
       "      <th>2</th>\n",
       "      <td>VOG00003</td>\n",
       "      <td>704</td>\n",
       "      <td>161</td>\n",
       "      <td>Xu</td>\n",
       "      <td>1675866.YP_009357223.1,320432.YP_249674.1,1592...</td>\n",
       "    </tr>\n",
       "    <tr>\n",
       "      <th>3</th>\n",
       "      <td>VOG00004</td>\n",
       "      <td>618</td>\n",
       "      <td>509</td>\n",
       "      <td>Xu</td>\n",
       "      <td>2041855.YP_009639449.1,2560719.YP_009639326.1,...</td>\n",
       "    </tr>\n",
       "    <tr>\n",
       "      <th>4</th>\n",
       "      <td>VOG00005</td>\n",
       "      <td>877</td>\n",
       "      <td>689</td>\n",
       "      <td>XhXrXs</td>\n",
       "      <td>1922558.YP_009333546.1,1923610.YP_009336918.1,...</td>\n",
       "    </tr>\n",
       "  </tbody>\n",
       "</table>\n",
       "</div>"
      ],
      "text/plain": [
       "  #GroupName  ProteinCount  SpeciesCount FunctionalCategory  \\\n",
       "0   VOG00001           743            36                 Xh   \n",
       "1   VOG00002           569            69                 Xh   \n",
       "2   VOG00003           704           161                 Xu   \n",
       "3   VOG00004           618           509                 Xu   \n",
       "4   VOG00005           877           689             XhXrXs   \n",
       "\n",
       "                                          ProteinIDs  \n",
       "0  1560514.YP_009094638.1,1720526.YP_009310212.1,...  \n",
       "1  10506.NP_049038.1,1269028.YP_007354781.1,10245...  \n",
       "2  1675866.YP_009357223.1,320432.YP_249674.1,1592...  \n",
       "3  2041855.YP_009639449.1,2560719.YP_009639326.1,...  \n",
       "4  1922558.YP_009333546.1,1923610.YP_009336918.1,...  "
      ]
     },
     "execution_count": 4,
     "metadata": {},
     "output_type": "execute_result"
    }
   ],
   "source": [
    "vogdb_members_df.head()"
   ]
  },
  {
   "cell_type": "code",
   "execution_count": 5,
   "metadata": {},
   "outputs": [
    {
     "name": "stdout",
     "output_type": "stream",
     "text": [
      "Number of NaN cells: 0\n"
     ]
    }
   ],
   "source": [
    "print('Number of NaN cells:', vogdb_members_df.isna().sum().sum())"
   ]
  },
  {
   "cell_type": "code",
   "execution_count": 6,
   "metadata": {},
   "outputs": [
    {
     "data": {
      "text/html": [
       "<div>\n",
       "<style scoped>\n",
       "    .dataframe tbody tr th:only-of-type {\n",
       "        vertical-align: middle;\n",
       "    }\n",
       "\n",
       "    .dataframe tbody tr th {\n",
       "        vertical-align: top;\n",
       "    }\n",
       "\n",
       "    .dataframe thead th {\n",
       "        text-align: right;\n",
       "    }\n",
       "</style>\n",
       "<table border=\"1\" class=\"dataframe\">\n",
       "  <thead>\n",
       "    <tr style=\"text-align: right;\">\n",
       "      <th></th>\n",
       "      <th>ProteinCount</th>\n",
       "      <th>SpeciesCount</th>\n",
       "    </tr>\n",
       "  </thead>\n",
       "  <tbody>\n",
       "    <tr>\n",
       "      <th>count</th>\n",
       "      <td>25400.000000</td>\n",
       "      <td>25400.000000</td>\n",
       "    </tr>\n",
       "    <tr>\n",
       "      <th>mean</th>\n",
       "      <td>12.005197</td>\n",
       "      <td>11.183622</td>\n",
       "    </tr>\n",
       "    <tr>\n",
       "      <th>std</th>\n",
       "      <td>44.590497</td>\n",
       "      <td>39.074229</td>\n",
       "    </tr>\n",
       "    <tr>\n",
       "      <th>min</th>\n",
       "      <td>2.000000</td>\n",
       "      <td>2.000000</td>\n",
       "    </tr>\n",
       "    <tr>\n",
       "      <th>25%</th>\n",
       "      <td>2.000000</td>\n",
       "      <td>2.000000</td>\n",
       "    </tr>\n",
       "    <tr>\n",
       "      <th>50%</th>\n",
       "      <td>4.000000</td>\n",
       "      <td>4.000000</td>\n",
       "    </tr>\n",
       "    <tr>\n",
       "      <th>75%</th>\n",
       "      <td>8.000000</td>\n",
       "      <td>7.000000</td>\n",
       "    </tr>\n",
       "    <tr>\n",
       "      <th>max</th>\n",
       "      <td>1973.000000</td>\n",
       "      <td>1835.000000</td>\n",
       "    </tr>\n",
       "  </tbody>\n",
       "</table>\n",
       "</div>"
      ],
      "text/plain": [
       "       ProteinCount  SpeciesCount\n",
       "count  25400.000000  25400.000000\n",
       "mean      12.005197     11.183622\n",
       "std       44.590497     39.074229\n",
       "min        2.000000      2.000000\n",
       "25%        2.000000      2.000000\n",
       "50%        4.000000      4.000000\n",
       "75%        8.000000      7.000000\n",
       "max     1973.000000   1835.000000"
      ]
     },
     "execution_count": 6,
     "metadata": {},
     "output_type": "execute_result"
    }
   ],
   "source": [
    "vogdb_members_df[['ProteinCount','SpeciesCount']].describe()"
   ]
  },
  {
   "cell_type": "code",
   "execution_count": 7,
   "metadata": {},
   "outputs": [
    {
     "data": {
      "image/png": "[encoded data removed]",
      "text/plain": [
       "<Figure size 864x288 with 2 Axes>"
      ]
     },
     "metadata": {},
     "output_type": "display_data"
    }
   ],
   "source": [
    "fig = plt.figure(figsize=(12, 4))\n",
    "\n",
    "plt.subplot(1, 2, 1)\n",
    "ax = sns.distplot(vogdb_members_df['ProteinCount'], kde=False)\n",
    "plt.title('Protein Count Distribution')\n",
    "\n",
    "plt.subplot(1, 2, 2)\n",
    "ax = sns.distplot(vogdb_members_df['SpeciesCount'], kde=False)\n",
    "plt.title('Species Count Distribution')\n",
    "\n",
    "plt.show()"
   ]
  },
  {
   "cell_type": "markdown",
   "metadata": {},
   "source": [
    "<span style=\"color:darkgreen;font-weight:bold;\">\n",
    "Most groups are small.\n",
    "</span>"
   ]
  },
  {
   "cell_type": "code",
   "execution_count": 8,
   "metadata": {},
   "outputs": [],
   "source": [
    "vogdb_members_df['Xr'] = vogdb_members_df['FunctionalCategory'].str.contains('Xr').astype(int)\n",
    "vogdb_members_df['Xs'] = vogdb_members_df['FunctionalCategory'].str.contains('Xs').astype(int)\n",
    "vogdb_members_df['Xh'] = vogdb_members_df['FunctionalCategory'].str.contains('Xh').astype(int)\n",
    "vogdb_members_df['Xp'] = vogdb_members_df['FunctionalCategory'].str.contains('Xp').astype(int)\n",
    "vogdb_members_df['Xu'] = vogdb_members_df['FunctionalCategory'].str.contains('Xu').astype(int)"
   ]
  },
  {
   "cell_type": "code",
   "execution_count": 9,
   "metadata": {},
   "outputs": [
    {
     "data": {
      "image/png": "[encoded data removed]",
      "text/plain": [
       "<Figure size 864x288 with 2 Axes>"
      ]
     },
     "metadata": {},
     "output_type": "display_data"
    }
   ],
   "source": [
    "fig = plt.figure(figsize=(12, 4))\n",
    "\n",
    "plt.subplot(1, 2, 1)\n",
    "ax = vogdb_members_df[['Xr','Xs','Xh','Xp','Xu']].sum().plot.bar()\n",
    "plt.title('Functional Categories')\n",
    "\n",
    "plt.subplot(1, 2, 2)\n",
    "ax = vogdb_members_df[['Xr','Xs','Xh','Xp']].sum().plot.bar()\n",
    "plt.title('Functional Categories without Xu')\n",
    "\n",
    "plt.show()"
   ]
  },
  {
   "cell_type": "markdown",
   "metadata": {},
   "source": [
    "<span style=\"color:darkgreen;font-weight:bold;\">\n",
    "Most groups are poorly characterized.\n",
    "</span>"
   ]
  },
  {
   "cell_type": "markdown",
   "metadata": {},
   "source": [
    "## Top 1% VOGDB members\n",
    "\n",
    "Exploring the top 1% of VOGs having the most proteins or species."
   ]
  },
  {
   "cell_type": "code",
   "execution_count": 10,
   "metadata": {},
   "outputs": [
    {
     "name": "stdout",
     "output_type": "stream",
     "text": [
      "Number of top 1% of VOGs: 254\n"
     ]
    }
   ],
   "source": [
    "n_top_vogs = int(n_vogs / 100)\n",
    "print('Number of top 1% of VOGs:', n_top_vogs)"
   ]
  },
  {
   "cell_type": "code",
   "execution_count": 11,
   "metadata": {},
   "outputs": [
    {
     "data": {
      "text/html": [
       "<div>\n",
       "<style scoped>\n",
       "    .dataframe tbody tr th:only-of-type {\n",
       "        vertical-align: middle;\n",
       "    }\n",
       "\n",
       "    .dataframe tbody tr th {\n",
       "        vertical-align: top;\n",
       "    }\n",
       "\n",
       "    .dataframe thead th {\n",
       "        text-align: right;\n",
       "    }\n",
       "</style>\n",
       "<table border=\"1\" class=\"dataframe\">\n",
       "  <thead>\n",
       "    <tr style=\"text-align: right;\">\n",
       "      <th></th>\n",
       "      <th>ProteinCount</th>\n",
       "    </tr>\n",
       "  </thead>\n",
       "  <tbody>\n",
       "    <tr>\n",
       "      <th>count</th>\n",
       "      <td>254.000000</td>\n",
       "    </tr>\n",
       "    <tr>\n",
       "      <th>mean</th>\n",
       "      <td>326.531496</td>\n",
       "    </tr>\n",
       "    <tr>\n",
       "      <th>std</th>\n",
       "      <td>275.064184</td>\n",
       "    </tr>\n",
       "    <tr>\n",
       "      <th>min</th>\n",
       "      <td>138.000000</td>\n",
       "    </tr>\n",
       "    <tr>\n",
       "      <th>25%</th>\n",
       "      <td>168.250000</td>\n",
       "    </tr>\n",
       "    <tr>\n",
       "      <th>50%</th>\n",
       "      <td>221.500000</td>\n",
       "    </tr>\n",
       "    <tr>\n",
       "      <th>75%</th>\n",
       "      <td>395.500000</td>\n",
       "    </tr>\n",
       "    <tr>\n",
       "      <th>max</th>\n",
       "      <td>1973.000000</td>\n",
       "    </tr>\n",
       "  </tbody>\n",
       "</table>\n",
       "</div>"
      ],
      "text/plain": [
       "       ProteinCount\n",
       "count    254.000000\n",
       "mean     326.531496\n",
       "std      275.064184\n",
       "min      138.000000\n",
       "25%      168.250000\n",
       "50%      221.500000\n",
       "75%      395.500000\n",
       "max     1973.000000"
      ]
     },
     "execution_count": 11,
     "metadata": {},
     "output_type": "execute_result"
    }
   ],
   "source": [
    "vogdb_top_proteins_members_df = vogdb_members_df.sort_values('ProteinCount', ascending=False).head(n_top_vogs)\n",
    "vogdb_top_proteins_members_df[['ProteinCount']].describe()"
   ]
  },
  {
   "cell_type": "code",
   "execution_count": 12,
   "metadata": {},
   "outputs": [
    {
     "data": {
      "text/html": [
       "<div>\n",
       "<style scoped>\n",
       "    .dataframe tbody tr th:only-of-type {\n",
       "        vertical-align: middle;\n",
       "    }\n",
       "\n",
       "    .dataframe tbody tr th {\n",
       "        vertical-align: top;\n",
       "    }\n",
       "\n",
       "    .dataframe thead th {\n",
       "        text-align: right;\n",
       "    }\n",
       "</style>\n",
       "<table border=\"1\" class=\"dataframe\">\n",
       "  <thead>\n",
       "    <tr style=\"text-align: right;\">\n",
       "      <th></th>\n",
       "      <th>SpeciesCount</th>\n",
       "    </tr>\n",
       "  </thead>\n",
       "  <tbody>\n",
       "    <tr>\n",
       "      <th>count</th>\n",
       "      <td>254.000000</td>\n",
       "    </tr>\n",
       "    <tr>\n",
       "      <th>mean</th>\n",
       "      <td>290.224409</td>\n",
       "    </tr>\n",
       "    <tr>\n",
       "      <th>std</th>\n",
       "      <td>233.062819</td>\n",
       "    </tr>\n",
       "    <tr>\n",
       "      <th>min</th>\n",
       "      <td>123.000000</td>\n",
       "    </tr>\n",
       "    <tr>\n",
       "      <th>25%</th>\n",
       "      <td>158.000000</td>\n",
       "    </tr>\n",
       "    <tr>\n",
       "      <th>50%</th>\n",
       "      <td>206.500000</td>\n",
       "    </tr>\n",
       "    <tr>\n",
       "      <th>75%</th>\n",
       "      <td>336.250000</td>\n",
       "    </tr>\n",
       "    <tr>\n",
       "      <th>max</th>\n",
       "      <td>1835.000000</td>\n",
       "    </tr>\n",
       "  </tbody>\n",
       "</table>\n",
       "</div>"
      ],
      "text/plain": [
       "       SpeciesCount\n",
       "count    254.000000\n",
       "mean     290.224409\n",
       "std      233.062819\n",
       "min      123.000000\n",
       "25%      158.000000\n",
       "50%      206.500000\n",
       "75%      336.250000\n",
       "max     1835.000000"
      ]
     },
     "execution_count": 12,
     "metadata": {},
     "output_type": "execute_result"
    }
   ],
   "source": [
    "vogdb_top_species_members_df = vogdb_members_df.sort_values('SpeciesCount', ascending=False).head(n_top_vogs)\n",
    "vogdb_top_species_members_df[['SpeciesCount']].describe()"
   ]
  },
  {
   "cell_type": "code",
   "execution_count": 13,
   "metadata": {},
   "outputs": [
    {
     "data": {
      "image/png": "[encoded data removed]",
      "text/plain": [
       "<Figure size 864x288 with 2 Axes>"
      ]
     },
     "metadata": {},
     "output_type": "display_data"
    }
   ],
   "source": [
    "fig = plt.figure(figsize=(12,4))\n",
    "\n",
    "plt.subplot(1, 2, 1)\n",
    "ax = sns.distplot(vogdb_top_proteins_members_df['ProteinCount'], kde=False)\n",
    "plt.title('Top 1% Protein Count Distribution')\n",
    "\n",
    "plt.subplot(1, 2, 2)\n",
    "ax = sns.distplot(vogdb_top_species_members_df['SpeciesCount'], kde=False)\n",
    "plt.title('Top 1% Species Count Distribution')\n",
    "\n",
    "plt.show()"
   ]
  },
  {
   "cell_type": "code",
   "execution_count": 14,
   "metadata": {},
   "outputs": [
    {
     "data": {
      "image/png": "[encoded data removed]",
      "text/plain": [
       "<Figure size 864x288 with 2 Axes>"
      ]
     },
     "metadata": {},
     "output_type": "display_data"
    }
   ],
   "source": [
    "fig = plt.figure(figsize=(12,4))\n",
    "\n",
    "plt.subplot(1, 2, 1)\n",
    "ax = vogdb_top_proteins_members_df[['Xr','Xs','Xh','Xp','Xu']].sum().plot.bar()\n",
    "plt.title('Functional Categories for Top 1% Protein Count')\n",
    "\n",
    "plt.subplot(1, 2, 2)\n",
    "ax = vogdb_top_species_members_df[['Xr','Xs','Xh','Xp','Xu']].sum().plot.bar()\n",
    "plt.title('Functional Categories for Top 1% Species Count')\n",
    "\n",
    "plt.show()"
   ]
  },
  {
   "cell_type": "markdown",
   "metadata": {},
   "source": [
    "<span style=\"color:darkgreen;font-weight:bold;\">\n",
    "The characterization for large groups is better.\n",
    "</span>"
   ]
  },
  {
   "cell_type": "markdown",
   "metadata": {},
   "source": [
    "## VOGDB annotations"
   ]
  },
  {
   "cell_type": "code",
   "execution_count": 15,
   "metadata": {},
   "outputs": [
    {
     "data": {
      "text/html": [
       "<div>\n",
       "<style scoped>\n",
       "    .dataframe tbody tr th:only-of-type {\n",
       "        vertical-align: middle;\n",
       "    }\n",
       "\n",
       "    .dataframe tbody tr th {\n",
       "        vertical-align: top;\n",
       "    }\n",
       "\n",
       "    .dataframe thead th {\n",
       "        text-align: right;\n",
       "    }\n",
       "</style>\n",
       "<table border=\"1\" class=\"dataframe\">\n",
       "  <thead>\n",
       "    <tr style=\"text-align: right;\">\n",
       "      <th></th>\n",
       "      <th>#GroupName</th>\n",
       "      <th>ProteinCount</th>\n",
       "      <th>SpeciesCount</th>\n",
       "      <th>FunctionalCategory</th>\n",
       "      <th>ConsensusFunctionalDescription</th>\n",
       "    </tr>\n",
       "  </thead>\n",
       "  <tbody>\n",
       "    <tr>\n",
       "      <th>0</th>\n",
       "      <td>VOG00001</td>\n",
       "      <td>743</td>\n",
       "      <td>36</td>\n",
       "      <td>Xh</td>\n",
       "      <td>sp|Q5UQJ2|YR863_MIMIV Putative ankyrin repeat ...</td>\n",
       "    </tr>\n",
       "    <tr>\n",
       "      <th>1</th>\n",
       "      <td>VOG00002</td>\n",
       "      <td>569</td>\n",
       "      <td>69</td>\n",
       "      <td>Xh</td>\n",
       "      <td>sp|Q9J4Z6|V244_FOWPN Putative ankyrin repeat p...</td>\n",
       "    </tr>\n",
       "    <tr>\n",
       "      <th>2</th>\n",
       "      <td>VOG00003</td>\n",
       "      <td>704</td>\n",
       "      <td>161</td>\n",
       "      <td>Xu</td>\n",
       "      <td>sp|Q91FD6|388R_IIV6 Putative MSV199 domain-con...</td>\n",
       "    </tr>\n",
       "    <tr>\n",
       "      <th>3</th>\n",
       "      <td>VOG00004</td>\n",
       "      <td>618</td>\n",
       "      <td>509</td>\n",
       "      <td>Xu</td>\n",
       "      <td>sp|P51704|RPC1_BPHC1 Repressor protein CI</td>\n",
       "    </tr>\n",
       "    <tr>\n",
       "      <th>4</th>\n",
       "      <td>VOG00005</td>\n",
       "      <td>877</td>\n",
       "      <td>689</td>\n",
       "      <td>XhXrXs</td>\n",
       "      <td>sp|P17766|POLG_PPVNA Genome polyprotein</td>\n",
       "    </tr>\n",
       "  </tbody>\n",
       "</table>\n",
       "</div>"
      ],
      "text/plain": [
       "  #GroupName  ProteinCount  SpeciesCount FunctionalCategory  \\\n",
       "0   VOG00001           743            36                 Xh   \n",
       "1   VOG00002           569            69                 Xh   \n",
       "2   VOG00003           704           161                 Xu   \n",
       "3   VOG00004           618           509                 Xu   \n",
       "4   VOG00005           877           689             XhXrXs   \n",
       "\n",
       "                      ConsensusFunctionalDescription  \n",
       "0  sp|Q5UQJ2|YR863_MIMIV Putative ankyrin repeat ...  \n",
       "1  sp|Q9J4Z6|V244_FOWPN Putative ankyrin repeat p...  \n",
       "2  sp|Q91FD6|388R_IIV6 Putative MSV199 domain-con...  \n",
       "3          sp|P51704|RPC1_BPHC1 Repressor protein CI  \n",
       "4            sp|P17766|POLG_PPVNA Genome polyprotein  "
      ]
     },
     "execution_count": 15,
     "metadata": {},
     "output_type": "execute_result"
    }
   ],
   "source": [
    "vogdb_annotations_df.head()"
   ]
  },
  {
   "cell_type": "code",
   "execution_count": 16,
   "metadata": {},
   "outputs": [
    {
     "name": "stdout",
     "output_type": "stream",
     "text": [
      "Number of NaN cells: 0\n"
     ]
    }
   ],
   "source": [
    "print('Number of NaN cells:', vogdb_annotations_df.isna().sum().sum())"
   ]
  },
  {
   "cell_type": "code",
   "execution_count": 17,
   "metadata": {},
   "outputs": [],
   "source": [
    "vogdb_annotations_df['SwissProt'] = vogdb_annotations_df['ConsensusFunctionalDescription'].str.startswith('sp').astype(int)\n",
    "vogdb_annotations_df['Refseq'] = vogdb_annotations_df['ConsensusFunctionalDescription'].str.startswith('REFSEQ').astype(int)"
   ]
  },
  {
   "cell_type": "code",
   "execution_count": 18,
   "metadata": {},
   "outputs": [
    {
     "data": {
      "image/png": "[encoded data removed]",
      "text/plain": [
       "<Figure size 432x288 with 1 Axes>"
      ]
     },
     "metadata": {},
     "output_type": "display_data"
    }
   ],
   "source": [
    "ax = vogdb_annotations_df[['Refseq','SwissProt']].sum().plot.bar()\n",
    "plt.title('Source of functional descriptions')\n",
    "plt.show()"
   ]
  },
  {
   "cell_type": "markdown",
   "metadata": {},
   "source": [
    "<span style=\"color:darkgreen;font-weight:bold;\">\n",
    "Most annotations come from Refseq, which is the fallback.\n",
    "</span>"
   ]
  },
  {
   "cell_type": "markdown",
   "metadata": {},
   "source": [
    "## VOGDB LCA"
   ]
  },
  {
   "cell_type": "code",
   "execution_count": 19,
   "metadata": {},
   "outputs": [
    {
     "data": {
      "text/html": [
       "<div>\n",
       "<style scoped>\n",
       "    .dataframe tbody tr th:only-of-type {\n",
       "        vertical-align: middle;\n",
       "    }\n",
       "\n",
       "    .dataframe tbody tr th {\n",
       "        vertical-align: top;\n",
       "    }\n",
       "\n",
       "    .dataframe thead th {\n",
       "        text-align: right;\n",
       "    }\n",
       "</style>\n",
       "<table border=\"1\" class=\"dataframe\">\n",
       "  <thead>\n",
       "    <tr style=\"text-align: right;\">\n",
       "      <th></th>\n",
       "      <th>#GroupName</th>\n",
       "      <th>GenomesInGroupAndLCA</th>\n",
       "      <th>GenomesTotalInLCA</th>\n",
       "      <th>LastCommonAncestor</th>\n",
       "    </tr>\n",
       "  </thead>\n",
       "  <tbody>\n",
       "    <tr>\n",
       "      <th>0</th>\n",
       "      <td>VOG00001</td>\n",
       "      <td>20</td>\n",
       "      <td>6131</td>\n",
       "      <td>Viruses</td>\n",
       "    </tr>\n",
       "    <tr>\n",
       "      <th>1</th>\n",
       "      <td>VOG00002</td>\n",
       "      <td>59</td>\n",
       "      <td>6131</td>\n",
       "      <td>Viruses</td>\n",
       "    </tr>\n",
       "    <tr>\n",
       "      <th>2</th>\n",
       "      <td>VOG00003</td>\n",
       "      <td>153</td>\n",
       "      <td>6131</td>\n",
       "      <td>Viruses</td>\n",
       "    </tr>\n",
       "    <tr>\n",
       "      <th>3</th>\n",
       "      <td>VOG00004</td>\n",
       "      <td>505</td>\n",
       "      <td>6131</td>\n",
       "      <td>Viruses</td>\n",
       "    </tr>\n",
       "    <tr>\n",
       "      <th>4</th>\n",
       "      <td>VOG00005</td>\n",
       "      <td>342</td>\n",
       "      <td>1683</td>\n",
       "      <td>Viruses;Riboviria</td>\n",
       "    </tr>\n",
       "  </tbody>\n",
       "</table>\n",
       "</div>"
      ],
      "text/plain": [
       "  #GroupName  GenomesInGroupAndLCA  GenomesTotalInLCA LastCommonAncestor\n",
       "0   VOG00001                    20               6131            Viruses\n",
       "1   VOG00002                    59               6131            Viruses\n",
       "2   VOG00003                   153               6131            Viruses\n",
       "3   VOG00004                   505               6131            Viruses\n",
       "4   VOG00005                   342               1683  Viruses;Riboviria"
      ]
     },
     "execution_count": 19,
     "metadata": {},
     "output_type": "execute_result"
    }
   ],
   "source": [
    "vogdb_lca_df.head()"
   ]
  },
  {
   "cell_type": "code",
   "execution_count": 20,
   "metadata": {},
   "outputs": [
    {
     "data": {
      "text/html": [
       "<div>\n",
       "<style scoped>\n",
       "    .dataframe tbody tr th:only-of-type {\n",
       "        vertical-align: middle;\n",
       "    }\n",
       "\n",
       "    .dataframe tbody tr th {\n",
       "        vertical-align: top;\n",
       "    }\n",
       "\n",
       "    .dataframe thead th {\n",
       "        text-align: right;\n",
       "    }\n",
       "</style>\n",
       "<table border=\"1\" class=\"dataframe\">\n",
       "  <thead>\n",
       "    <tr style=\"text-align: right;\">\n",
       "      <th></th>\n",
       "      <th>GenomesInGroupAndLCA</th>\n",
       "      <th>GenomesTotalInLCA</th>\n",
       "    </tr>\n",
       "  </thead>\n",
       "  <tbody>\n",
       "    <tr>\n",
       "      <th>count</th>\n",
       "      <td>25400.000000</td>\n",
       "      <td>25400.000000</td>\n",
       "    </tr>\n",
       "    <tr>\n",
       "      <th>mean</th>\n",
       "      <td>10.719803</td>\n",
       "      <td>965.066299</td>\n",
       "    </tr>\n",
       "    <tr>\n",
       "      <th>std</th>\n",
       "      <td>38.081363</td>\n",
       "      <td>1687.287043</td>\n",
       "    </tr>\n",
       "    <tr>\n",
       "      <th>min</th>\n",
       "      <td>0.000000</td>\n",
       "      <td>1.000000</td>\n",
       "    </tr>\n",
       "    <tr>\n",
       "      <th>25%</th>\n",
       "      <td>2.000000</td>\n",
       "      <td>5.000000</td>\n",
       "    </tr>\n",
       "    <tr>\n",
       "      <th>50%</th>\n",
       "      <td>3.000000</td>\n",
       "      <td>48.000000</td>\n",
       "    </tr>\n",
       "    <tr>\n",
       "      <th>75%</th>\n",
       "      <td>7.000000</td>\n",
       "      <td>1343.000000</td>\n",
       "    </tr>\n",
       "    <tr>\n",
       "      <th>max</th>\n",
       "      <td>1833.000000</td>\n",
       "      <td>6131.000000</td>\n",
       "    </tr>\n",
       "  </tbody>\n",
       "</table>\n",
       "</div>"
      ],
      "text/plain": [
       "       GenomesInGroupAndLCA  GenomesTotalInLCA\n",
       "count          25400.000000       25400.000000\n",
       "mean              10.719803         965.066299\n",
       "std               38.081363        1687.287043\n",
       "min                0.000000           1.000000\n",
       "25%                2.000000           5.000000\n",
       "50%                3.000000          48.000000\n",
       "75%                7.000000        1343.000000\n",
       "max             1833.000000        6131.000000"
      ]
     },
     "execution_count": 20,
     "metadata": {},
     "output_type": "execute_result"
    }
   ],
   "source": [
    "vogdb_lca_df[['GenomesInGroupAndLCA','GenomesTotalInLCA']].describe()"
   ]
  },
  {
   "cell_type": "code",
   "execution_count": 21,
   "metadata": {},
   "outputs": [
    {
     "name": "stdout",
     "output_type": "stream",
     "text": [
      "Number of NaN cells: 1222\n"
     ]
    }
   ],
   "source": [
    "print('Number of NaN cells:', vogdb_lca_df.isna().sum().sum())"
   ]
  },
  {
   "cell_type": "code",
   "execution_count": 22,
   "metadata": {},
   "outputs": [
    {
     "name": "stdout",
     "output_type": "stream",
     "text": [
      "NaN columns: ['LastCommonAncestor']\n"
     ]
    }
   ],
   "source": [
    "print('NaN columns:', vogdb_lca_df.columns[vogdb_lca_df.isna().any()].tolist())"
   ]
  },
  {
   "cell_type": "code",
   "execution_count": 23,
   "metadata": {},
   "outputs": [
    {
     "name": "stdout",
     "output_type": "stream",
     "text": [
      "Is there an undefined taxonomic level count? False\n"
     ]
    }
   ],
   "source": [
    "def count_taxonomic_levels(lca):\n",
    "    \"\"\"Counts terms in LCA column to quantify taxonomic accuracy.\"\"\"\n",
    "    n_levels = -1;\n",
    "    \n",
    "    if (pd.isnull(lca)):\n",
    "        n_levels = 0\n",
    "    elif (lca == 'Viruses'):\n",
    "        n_levels = 1\n",
    "    else:\n",
    "        n_levels = lca.count(';') + 1\n",
    "        \n",
    "    return n_levels\n",
    "\n",
    "\n",
    "vogdb_lca_df['N_taxonomic_levels'] = vogdb_lca_df.apply(lambda row: count_taxonomic_levels(row['LastCommonAncestor']), axis=1)\n",
    "\n",
    "print('Is there an undefined taxonomic level count?', -1 in vogdb_lca_df['N_taxonomic_levels'])"
   ]
  },
  {
   "cell_type": "code",
   "execution_count": 24,
   "metadata": {},
   "outputs": [
    {
     "data": {
      "text/plain": [
       "count    25400.000000\n",
       "mean         3.269016\n",
       "std          1.260271\n",
       "min          0.000000\n",
       "25%          3.000000\n",
       "50%          3.000000\n",
       "75%          4.000000\n",
       "max          9.000000\n",
       "Name: N_taxonomic_levels, dtype: float64"
      ]
     },
     "execution_count": 24,
     "metadata": {},
     "output_type": "execute_result"
    }
   ],
   "source": [
    "vogdb_lca_df['N_taxonomic_levels'].describe()"
   ]
  },
  {
   "cell_type": "code",
   "execution_count": 25,
   "metadata": {},
   "outputs": [
    {
     "data": {
      "image/png": "[encoded data removed]",
      "text/plain": [
       "<Figure size 864x288 with 2 Axes>"
      ]
     },
     "metadata": {},
     "output_type": "display_data"
    }
   ],
   "source": [
    "fig = plt.figure(figsize=(12,4))\n",
    "\n",
    "plt.subplot(1, 2, 1)\n",
    "ax = sns.distplot(vogdb_lca_df['N_taxonomic_levels'], kde=False, bins=10)\n",
    "plt.title('LCA Taxonomic Levels Distribution')\n",
    "plt.xticks(np.arange(0, 10, 1.0))\n",
    "\n",
    "plt.subplot(1, 2, 2)\n",
    "ax = vogdb_lca_df.boxplot(column='N_taxonomic_levels')\n",
    "plt.title('Boxplot LCA Taxonomic Levels')\n",
    "\n",
    "plt.show()"
   ]
  },
  {
   "cell_type": "markdown",
   "metadata": {},
   "source": [
    "<span style=\"color:darkgreen;font-weight:bold;\">\n",
    "Most groups have only a broad lineage.\n",
    "</span>"
   ]
  },
  {
   "cell_type": "markdown",
   "metadata": {},
   "source": [
    "## Top 1% VOGDB LCA\n",
    "\n",
    "Exploring the top 1% of VOGs having the most genomes."
   ]
  },
  {
   "cell_type": "code",
   "execution_count": 54,
   "metadata": {},
   "outputs": [
    {
     "data": {
      "text/html": [
       "<div>\n",
       "<style scoped>\n",
       "    .dataframe tbody tr th:only-of-type {\n",
       "        vertical-align: middle;\n",
       "    }\n",
       "\n",
       "    .dataframe tbody tr th {\n",
       "        vertical-align: top;\n",
       "    }\n",
       "\n",
       "    .dataframe thead th {\n",
       "        text-align: right;\n",
       "    }\n",
       "</style>\n",
       "<table border=\"1\" class=\"dataframe\">\n",
       "  <thead>\n",
       "    <tr style=\"text-align: right;\">\n",
       "      <th></th>\n",
       "      <th>GenomesInGroupAndLCA</th>\n",
       "    </tr>\n",
       "  </thead>\n",
       "  <tbody>\n",
       "    <tr>\n",
       "      <th>count</th>\n",
       "      <td>254.000000</td>\n",
       "    </tr>\n",
       "    <tr>\n",
       "      <th>mean</th>\n",
       "      <td>282.259843</td>\n",
       "    </tr>\n",
       "    <tr>\n",
       "      <th>std</th>\n",
       "      <td>226.509943</td>\n",
       "    </tr>\n",
       "    <tr>\n",
       "      <th>min</th>\n",
       "      <td>121.000000</td>\n",
       "    </tr>\n",
       "    <tr>\n",
       "      <th>25%</th>\n",
       "      <td>152.000000</td>\n",
       "    </tr>\n",
       "    <tr>\n",
       "      <th>50%</th>\n",
       "      <td>204.500000</td>\n",
       "    </tr>\n",
       "    <tr>\n",
       "      <th>75%</th>\n",
       "      <td>327.000000</td>\n",
       "    </tr>\n",
       "    <tr>\n",
       "      <th>max</th>\n",
       "      <td>1833.000000</td>\n",
       "    </tr>\n",
       "  </tbody>\n",
       "</table>\n",
       "</div>"
      ],
      "text/plain": [
       "       GenomesInGroupAndLCA\n",
       "count            254.000000\n",
       "mean             282.259843\n",
       "std              226.509943\n",
       "min              121.000000\n",
       "25%              152.000000\n",
       "50%              204.500000\n",
       "75%              327.000000\n",
       "max             1833.000000"
      ]
     },
     "execution_count": 54,
     "metadata": {},
     "output_type": "execute_result"
    }
   ],
   "source": [
    "vogdb_top_genomes_lca_df = vogdb_lca_df.sort_values('GenomesInGroupAndLCA', ascending=False).head(n_top_vogs)\n",
    "vogdb_top_genomes_lca_df[['GenomesInGroupAndLCA']].describe()"
   ]
  },
  {
   "cell_type": "code",
   "execution_count": 55,
   "metadata": {},
   "outputs": [
    {
     "data": {
      "text/plain": [
       "count    254.000000\n",
       "mean       1.952756\n",
       "std        0.788838\n",
       "min        1.000000\n",
       "25%        1.250000\n",
       "50%        2.000000\n",
       "75%        2.000000\n",
       "max        7.000000\n",
       "Name: N_taxonomic_levels, dtype: float64"
      ]
     },
     "execution_count": 55,
     "metadata": {},
     "output_type": "execute_result"
    }
   ],
   "source": [
    "vogdb_top_genomes_lca_df['N_taxonomic_levels'].describe()"
   ]
  },
  {
   "cell_type": "code",
   "execution_count": 56,
   "metadata": {},
   "outputs": [
    {
     "data": {
      "image/png": "[encoded data removed]",
      "text/plain": [
       "<Figure size 864x288 with 2 Axes>"
      ]
     },
     "metadata": {},
     "output_type": "display_data"
    }
   ],
   "source": [
    "fig = plt.figure(figsize=(12,4))\n",
    "\n",
    "plt.subplot(1, 2, 1)\n",
    "ax = sns.distplot(vogdb_top_genomes_lca_df['N_taxonomic_levels'], kde=False, bins=10)\n",
    "plt.title('LCA Taxonomic Levels Distribution')\n",
    "plt.xticks(np.arange(0, 10, 1.0))\n",
    "\n",
    "plt.subplot(1, 2, 2)\n",
    "ax = vogdb_top_genomes_lca_df.boxplot(column='N_taxonomic_levels')\n",
    "plt.title('Boxplot LCA Taxonomic Levels')\n",
    "\n",
    "plt.show()"
   ]
  },
  {
   "cell_type": "markdown",
   "metadata": {},
   "source": [
    "<span style=\"color:darkgreen;font-weight:bold;\">\n",
    "For larger groups, the resolution for the linage drops.\n",
    "</span>"
   ]
  }
 ],
 "metadata": {
  "kernelspec": {
   "display_name": "Python 3",
   "language": "python",
   "name": "python3"
  },
  "language_info": {
   "codemirror_mode": {
    "name": "ipython",
    "version": 3
   },
   "file_extension": ".py",
   "mimetype": "text/x-python",
   "name": "python",
   "nbconvert_exporter": "python",
   "pygments_lexer": "ipython3",
   "version": "3.7.6"
  }
 },
 "nbformat": 4,
 "nbformat_minor": 4
}
