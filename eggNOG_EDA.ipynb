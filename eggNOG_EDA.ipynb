{
 "cells": [
  {
   "cell_type": "markdown",
   "metadata": {},
   "source": [
    "# eggNOG EDA\n",
    "Exploring VOGs from [eggNOG](http://eggnog5.embl.de/download/eggnog_5.0/per_tax_level/10239/). Unfortunately eggNOG 5.0 has no README.txt describing the files, so I looked into the [eggNOG 4.5 README.txt](http://eggnog5.embl.de/download/eggnog_4.5/README.txt) to get info on the files.\n"
   ]
  },
  {
   "cell_type": "code",
   "execution_count": 1,
   "metadata": {},
   "outputs": [],
   "source": [
    "%matplotlib inline\n",
    "import warnings\n",
    "warnings.simplefilter(action='ignore', category=FutureWarning)\n",
    "import pandas as pd\n",
    "import numpy as np\n",
    "import matplotlib.pyplot as plt\n",
    "import seaborn as sns\n",
    "sns.set_style(\"whitegrid\")"
   ]
  },
  {
   "cell_type": "markdown",
   "metadata": {},
   "source": [
    "## Load and view eggNOG files\n",
    "* **10239_members.tsv**, Tab delimited file, content of each group (protein list).\n",
    "* **10239_annotations.tsv**, Tab delimited file, functional annotation associated with each group.\n",
    "* **10239_trees.tsv**, Tab delimited file, phylogenetic tree of each group in newick format."
   ]
  },
  {
   "cell_type": "code",
   "execution_count": 2,
   "metadata": {},
   "outputs": [],
   "source": [
    "# Path to VOGDB files\n",
    "eggnog_files = '/home/alepfu/Desktop/eggNOG_Viruses_files/'\n",
    "\n",
    "# Filenames\n",
    "eggnog_file_members = '10239_members.tsv'\n",
    "eggnog_file_annotations = '10239_annotations.tsv'\n",
    "eggnog_file_trees = '10239_trees.tsv'\n",
    "\n",
    "# eggNOG files come without headers\n",
    "members_header = ['TaxonomicLevel','GroupName','ProteinCount','SpeciesCount','COGFunctionalCategory','ProteinIDs']\n",
    "annotations_header = ['TaxonomicLevel','GroupName','COGFunctionalCategory','ConsensusFunctionalDescription']\n",
    "trees_header = ['TaxonomicLevel','GroupName','SequenceAlignmentMethod','NewickTree']\n",
    "\n",
    "# Load data\n",
    "eggnog_members_df = pd.read_csv(eggnog_files + eggnog_file_members, sep='\\t', names=members_header)\n",
    "eggnog_annotations_df = pd.read_csv(eggnog_files + eggnog_file_annotations, sep='\\t', names=annotations_header)\n",
    "eggnog_trees_df = pd.read_csv(eggnog_files + eggnog_file_trees, sep='\\t', names=trees_header)"
   ]
  },
  {
   "cell_type": "code",
   "execution_count": 3,
   "metadata": {},
   "outputs": [
    {
     "name": "stdout",
     "output_type": "stream",
     "text": [
      "Number of VOGs: 8319\n"
     ]
    }
   ],
   "source": [
    "n_vogs = eggnog_members_df.shape[0]\n",
    "print('Number of VOGs:', n_vogs)"
   ]
  },
  {
   "cell_type": "markdown",
   "metadata": {},
   "source": [
    "## eggNOG members"
   ]
  },
  {
   "cell_type": "code",
   "execution_count": 4,
   "metadata": {},
   "outputs": [
    {
     "data": {
      "text/html": [
       "<div>\n",
       "<style scoped>\n",
       "    .dataframe tbody tr th:only-of-type {\n",
       "        vertical-align: middle;\n",
       "    }\n",
       "\n",
       "    .dataframe tbody tr th {\n",
       "        vertical-align: top;\n",
       "    }\n",
       "\n",
       "    .dataframe thead th {\n",
       "        text-align: right;\n",
       "    }\n",
       "</style>\n",
       "<table border=\"1\" class=\"dataframe\">\n",
       "  <thead>\n",
       "    <tr style=\"text-align: right;\">\n",
       "      <th></th>\n",
       "      <th>TaxonomicLevel</th>\n",
       "      <th>GroupName</th>\n",
       "      <th>ProteinCount</th>\n",
       "      <th>SpeciesCount</th>\n",
       "      <th>COGFunctionalCategory</th>\n",
       "      <th>ProteinIDs</th>\n",
       "    </tr>\n",
       "  </thead>\n",
       "  <tbody>\n",
       "    <tr>\n",
       "      <th>0</th>\n",
       "      <td>10239</td>\n",
       "      <td>4QAIH</td>\n",
       "      <td>2</td>\n",
       "      <td>2</td>\n",
       "      <td>1229753.K7QJT8_9CAUD,948870.I7HXC4_9CAUD</td>\n",
       "      <td>1229753,948870</td>\n",
       "    </tr>\n",
       "    <tr>\n",
       "      <th>1</th>\n",
       "      <td>10239</td>\n",
       "      <td>4QAII</td>\n",
       "      <td>2</td>\n",
       "      <td>2</td>\n",
       "      <td>1337877.R9VYA7_9CAUD,1589751.A0A0C5AES7_9CAUD</td>\n",
       "      <td>1337877,1589751</td>\n",
       "    </tr>\n",
       "    <tr>\n",
       "      <th>2</th>\n",
       "      <td>10239</td>\n",
       "      <td>4QAIJ</td>\n",
       "      <td>92</td>\n",
       "      <td>87</td>\n",
       "      <td>1026955.F5B418_9CAUD,1036615.G1DU48_9CAUD,1036...</td>\n",
       "      <td>1026955,1036615,1036616,10506,10678,10689,1073...</td>\n",
       "    </tr>\n",
       "    <tr>\n",
       "      <th>3</th>\n",
       "      <td>10239</td>\n",
       "      <td>4QAIK</td>\n",
       "      <td>394</td>\n",
       "      <td>271</td>\n",
       "      <td>1026955.F5B3S2_9CAUD,1026955.F5B490_9CAUD,1032...</td>\n",
       "      <td>1026955,1032891,1036613,1041808,1048207,105267...</td>\n",
       "    </tr>\n",
       "    <tr>\n",
       "      <th>4</th>\n",
       "      <td>10239</td>\n",
       "      <td>4QAIM</td>\n",
       "      <td>2</td>\n",
       "      <td>2</td>\n",
       "      <td>1204516.I6XLJ7_9CAUD,260149.E5DSM2_9CAUD</td>\n",
       "      <td>1204516,260149</td>\n",
       "    </tr>\n",
       "  </tbody>\n",
       "</table>\n",
       "</div>"
      ],
      "text/plain": [
       "   TaxonomicLevel GroupName  ProteinCount  SpeciesCount  \\\n",
       "0           10239     4QAIH             2             2   \n",
       "1           10239     4QAII             2             2   \n",
       "2           10239     4QAIJ            92            87   \n",
       "3           10239     4QAIK           394           271   \n",
       "4           10239     4QAIM             2             2   \n",
       "\n",
       "                               COGFunctionalCategory  \\\n",
       "0           1229753.K7QJT8_9CAUD,948870.I7HXC4_9CAUD   \n",
       "1      1337877.R9VYA7_9CAUD,1589751.A0A0C5AES7_9CAUD   \n",
       "2  1026955.F5B418_9CAUD,1036615.G1DU48_9CAUD,1036...   \n",
       "3  1026955.F5B3S2_9CAUD,1026955.F5B490_9CAUD,1032...   \n",
       "4           1204516.I6XLJ7_9CAUD,260149.E5DSM2_9CAUD   \n",
       "\n",
       "                                          ProteinIDs  \n",
       "0                                     1229753,948870  \n",
       "1                                    1337877,1589751  \n",
       "2  1026955,1036615,1036616,10506,10678,10689,1073...  \n",
       "3  1026955,1032891,1036613,1041808,1048207,105267...  \n",
       "4                                     1204516,260149  "
      ]
     },
     "execution_count": 4,
     "metadata": {},
     "output_type": "execute_result"
    }
   ],
   "source": [
    "eggnog_members_df.head()"
   ]
  },
  {
   "cell_type": "markdown",
   "metadata": {},
   "source": [
    "We drop column \"COGFunctionalCategory\", because it doesn't hold the right information. It should be a single letter, but it's a list of IDs (Taxid.SeqID). \n",
    "Also, we drop the column \"TaxonomicLevel\", since this is the level-ID of viruses, and there are only viruses in VOGs."
   ]
  },
  {
   "cell_type": "code",
   "execution_count": 5,
   "metadata": {},
   "outputs": [
    {
     "data": {
      "text/html": [
       "<div>\n",
       "<style scoped>\n",
       "    .dataframe tbody tr th:only-of-type {\n",
       "        vertical-align: middle;\n",
       "    }\n",
       "\n",
       "    .dataframe tbody tr th {\n",
       "        vertical-align: top;\n",
       "    }\n",
       "\n",
       "    .dataframe thead th {\n",
       "        text-align: right;\n",
       "    }\n",
       "</style>\n",
       "<table border=\"1\" class=\"dataframe\">\n",
       "  <thead>\n",
       "    <tr style=\"text-align: right;\">\n",
       "      <th></th>\n",
       "      <th>GroupName</th>\n",
       "      <th>ProteinCount</th>\n",
       "      <th>SpeciesCount</th>\n",
       "      <th>ProteinIDs</th>\n",
       "    </tr>\n",
       "  </thead>\n",
       "  <tbody>\n",
       "    <tr>\n",
       "      <th>0</th>\n",
       "      <td>4QAIH</td>\n",
       "      <td>2</td>\n",
       "      <td>2</td>\n",
       "      <td>1229753,948870</td>\n",
       "    </tr>\n",
       "    <tr>\n",
       "      <th>1</th>\n",
       "      <td>4QAII</td>\n",
       "      <td>2</td>\n",
       "      <td>2</td>\n",
       "      <td>1337877,1589751</td>\n",
       "    </tr>\n",
       "    <tr>\n",
       "      <th>2</th>\n",
       "      <td>4QAIJ</td>\n",
       "      <td>92</td>\n",
       "      <td>87</td>\n",
       "      <td>1026955,1036615,1036616,10506,10678,10689,1073...</td>\n",
       "    </tr>\n",
       "    <tr>\n",
       "      <th>3</th>\n",
       "      <td>4QAIK</td>\n",
       "      <td>394</td>\n",
       "      <td>271</td>\n",
       "      <td>1026955,1032891,1036613,1041808,1048207,105267...</td>\n",
       "    </tr>\n",
       "    <tr>\n",
       "      <th>4</th>\n",
       "      <td>4QAIM</td>\n",
       "      <td>2</td>\n",
       "      <td>2</td>\n",
       "      <td>1204516,260149</td>\n",
       "    </tr>\n",
       "  </tbody>\n",
       "</table>\n",
       "</div>"
      ],
      "text/plain": [
       "  GroupName  ProteinCount  SpeciesCount  \\\n",
       "0     4QAIH             2             2   \n",
       "1     4QAII             2             2   \n",
       "2     4QAIJ            92            87   \n",
       "3     4QAIK           394           271   \n",
       "4     4QAIM             2             2   \n",
       "\n",
       "                                          ProteinIDs  \n",
       "0                                     1229753,948870  \n",
       "1                                    1337877,1589751  \n",
       "2  1026955,1036615,1036616,10506,10678,10689,1073...  \n",
       "3  1026955,1032891,1036613,1041808,1048207,105267...  \n",
       "4                                     1204516,260149  "
      ]
     },
     "execution_count": 5,
     "metadata": {},
     "output_type": "execute_result"
    }
   ],
   "source": [
    "eggnog_members_df.drop(['COGFunctionalCategory', 'TaxonomicLevel'], axis=1, inplace=True)\n",
    "eggnog_members_df.head()"
   ]
  },
  {
   "cell_type": "code",
   "execution_count": 6,
   "metadata": {},
   "outputs": [
    {
     "name": "stdout",
     "output_type": "stream",
     "text": [
      "Number of NaN cells: 0\n"
     ]
    }
   ],
   "source": [
    "print('Number of NaN cells:', eggnog_members_df.isna().sum().sum())"
   ]
  },
  {
   "cell_type": "code",
   "execution_count": 7,
   "metadata": {},
   "outputs": [
    {
     "data": {
      "text/html": [
       "<div>\n",
       "<style scoped>\n",
       "    .dataframe tbody tr th:only-of-type {\n",
       "        vertical-align: middle;\n",
       "    }\n",
       "\n",
       "    .dataframe tbody tr th {\n",
       "        vertical-align: top;\n",
       "    }\n",
       "\n",
       "    .dataframe thead th {\n",
       "        text-align: right;\n",
       "    }\n",
       "</style>\n",
       "<table border=\"1\" class=\"dataframe\">\n",
       "  <thead>\n",
       "    <tr style=\"text-align: right;\">\n",
       "      <th></th>\n",
       "      <th>ProteinCount</th>\n",
       "      <th>SpeciesCount</th>\n",
       "    </tr>\n",
       "  </thead>\n",
       "  <tbody>\n",
       "    <tr>\n",
       "      <th>count</th>\n",
       "      <td>8319.000000</td>\n",
       "      <td>8319.000000</td>\n",
       "    </tr>\n",
       "    <tr>\n",
       "      <th>mean</th>\n",
       "      <td>6.578916</td>\n",
       "      <td>6.084385</td>\n",
       "    </tr>\n",
       "    <tr>\n",
       "      <th>std</th>\n",
       "      <td>27.962616</td>\n",
       "      <td>18.498776</td>\n",
       "    </tr>\n",
       "    <tr>\n",
       "      <th>min</th>\n",
       "      <td>2.000000</td>\n",
       "      <td>2.000000</td>\n",
       "    </tr>\n",
       "    <tr>\n",
       "      <th>25%</th>\n",
       "      <td>2.000000</td>\n",
       "      <td>2.000000</td>\n",
       "    </tr>\n",
       "    <tr>\n",
       "      <th>50%</th>\n",
       "      <td>2.000000</td>\n",
       "      <td>2.000000</td>\n",
       "    </tr>\n",
       "    <tr>\n",
       "      <th>75%</th>\n",
       "      <td>4.000000</td>\n",
       "      <td>4.000000</td>\n",
       "    </tr>\n",
       "    <tr>\n",
       "      <th>max</th>\n",
       "      <td>1855.000000</td>\n",
       "      <td>837.000000</td>\n",
       "    </tr>\n",
       "  </tbody>\n",
       "</table>\n",
       "</div>"
      ],
      "text/plain": [
       "       ProteinCount  SpeciesCount\n",
       "count   8319.000000   8319.000000\n",
       "mean       6.578916      6.084385\n",
       "std       27.962616     18.498776\n",
       "min        2.000000      2.000000\n",
       "25%        2.000000      2.000000\n",
       "50%        2.000000      2.000000\n",
       "75%        4.000000      4.000000\n",
       "max     1855.000000    837.000000"
      ]
     },
     "execution_count": 7,
     "metadata": {},
     "output_type": "execute_result"
    }
   ],
   "source": [
    "eggnog_members_df[['ProteinCount','SpeciesCount']].describe()"
   ]
  },
  {
   "cell_type": "code",
   "execution_count": 8,
   "metadata": {},
   "outputs": [
    {
     "data": {
      "image/png": "[encoded data removed]",
      "text/plain": [
       "<Figure size 864x288 with 2 Axes>"
      ]
     },
     "metadata": {},
     "output_type": "display_data"
    }
   ],
   "source": [
    "fig = plt.figure(figsize=(12, 4))\n",
    "\n",
    "plt.subplot(1, 2, 1)\n",
    "ax = sns.distplot(eggnog_members_df['ProteinCount'], kde=False)\n",
    "plt.title('Protein Count Distribution')\n",
    "\n",
    "plt.subplot(1, 2, 2)\n",
    "ax = sns.distplot(eggnog_members_df['SpeciesCount'], kde=False)\n",
    "plt.title('Species Count Distribution')\n",
    "\n",
    "plt.show()"
   ]
  },
  {
   "cell_type": "markdown",
   "metadata": {},
   "source": [
    "<span style=\"color:darkgreen;font-weight:bold;\">\n",
    "Most groups are small. Compared to VOGDB, groups are only half the size.\n",
    "</span>"
   ]
  },
  {
   "cell_type": "markdown",
   "metadata": {},
   "source": [
    "## Top 1% eggNOG members\n",
    "\n",
    "Exploring the top 1% of VOGs having the most proteins or species."
   ]
  },
  {
   "cell_type": "code",
   "execution_count": 9,
   "metadata": {},
   "outputs": [
    {
     "name": "stdout",
     "output_type": "stream",
     "text": [
      "Number of top 1% of VOGs: 83\n"
     ]
    }
   ],
   "source": [
    "n_top_vogs = int(n_vogs / 100)\n",
    "print('Number of top 1% of VOGs:', n_top_vogs)"
   ]
  },
  {
   "cell_type": "code",
   "execution_count": 10,
   "metadata": {},
   "outputs": [
    {
     "data": {
      "text/html": [
       "<div>\n",
       "<style scoped>\n",
       "    .dataframe tbody tr th:only-of-type {\n",
       "        vertical-align: middle;\n",
       "    }\n",
       "\n",
       "    .dataframe tbody tr th {\n",
       "        vertical-align: top;\n",
       "    }\n",
       "\n",
       "    .dataframe thead th {\n",
       "        text-align: right;\n",
       "    }\n",
       "</style>\n",
       "<table border=\"1\" class=\"dataframe\">\n",
       "  <thead>\n",
       "    <tr style=\"text-align: right;\">\n",
       "      <th></th>\n",
       "      <th>ProteinCount</th>\n",
       "    </tr>\n",
       "  </thead>\n",
       "  <tbody>\n",
       "    <tr>\n",
       "      <th>count</th>\n",
       "      <td>83.000000</td>\n",
       "    </tr>\n",
       "    <tr>\n",
       "      <th>mean</th>\n",
       "      <td>170.939759</td>\n",
       "    </tr>\n",
       "    <tr>\n",
       "      <th>std</th>\n",
       "      <td>213.369389</td>\n",
       "    </tr>\n",
       "    <tr>\n",
       "      <th>min</th>\n",
       "      <td>69.000000</td>\n",
       "    </tr>\n",
       "    <tr>\n",
       "      <th>25%</th>\n",
       "      <td>84.500000</td>\n",
       "    </tr>\n",
       "    <tr>\n",
       "      <th>50%</th>\n",
       "      <td>112.000000</td>\n",
       "    </tr>\n",
       "    <tr>\n",
       "      <th>75%</th>\n",
       "      <td>170.000000</td>\n",
       "    </tr>\n",
       "    <tr>\n",
       "      <th>max</th>\n",
       "      <td>1855.000000</td>\n",
       "    </tr>\n",
       "  </tbody>\n",
       "</table>\n",
       "</div>"
      ],
      "text/plain": [
       "       ProteinCount\n",
       "count     83.000000\n",
       "mean     170.939759\n",
       "std      213.369389\n",
       "min       69.000000\n",
       "25%       84.500000\n",
       "50%      112.000000\n",
       "75%      170.000000\n",
       "max     1855.000000"
      ]
     },
     "execution_count": 10,
     "metadata": {},
     "output_type": "execute_result"
    }
   ],
   "source": [
    "eggnog_top_proteins_members_df = eggnog_members_df.sort_values('ProteinCount', ascending=False).head(n_top_vogs)\n",
    "eggnog_top_proteins_members_df[['ProteinCount']].describe()"
   ]
  },
  {
   "cell_type": "code",
   "execution_count": 11,
   "metadata": {},
   "outputs": [
    {
     "data": {
      "text/html": [
       "<div>\n",
       "<style scoped>\n",
       "    .dataframe tbody tr th:only-of-type {\n",
       "        vertical-align: middle;\n",
       "    }\n",
       "\n",
       "    .dataframe tbody tr th {\n",
       "        vertical-align: top;\n",
       "    }\n",
       "\n",
       "    .dataframe thead th {\n",
       "        text-align: right;\n",
       "    }\n",
       "</style>\n",
       "<table border=\"1\" class=\"dataframe\">\n",
       "  <thead>\n",
       "    <tr style=\"text-align: right;\">\n",
       "      <th></th>\n",
       "      <th>SpeciesCount</th>\n",
       "    </tr>\n",
       "  </thead>\n",
       "  <tbody>\n",
       "    <tr>\n",
       "      <th>count</th>\n",
       "      <td>83.000000</td>\n",
       "    </tr>\n",
       "    <tr>\n",
       "      <th>mean</th>\n",
       "      <td>136.457831</td>\n",
       "    </tr>\n",
       "    <tr>\n",
       "      <th>std</th>\n",
       "      <td>109.309284</td>\n",
       "    </tr>\n",
       "    <tr>\n",
       "      <th>min</th>\n",
       "      <td>64.000000</td>\n",
       "    </tr>\n",
       "    <tr>\n",
       "      <th>25%</th>\n",
       "      <td>74.000000</td>\n",
       "    </tr>\n",
       "    <tr>\n",
       "      <th>50%</th>\n",
       "      <td>102.000000</td>\n",
       "    </tr>\n",
       "    <tr>\n",
       "      <th>75%</th>\n",
       "      <td>150.000000</td>\n",
       "    </tr>\n",
       "    <tr>\n",
       "      <th>max</th>\n",
       "      <td>837.000000</td>\n",
       "    </tr>\n",
       "  </tbody>\n",
       "</table>\n",
       "</div>"
      ],
      "text/plain": [
       "       SpeciesCount\n",
       "count     83.000000\n",
       "mean     136.457831\n",
       "std      109.309284\n",
       "min       64.000000\n",
       "25%       74.000000\n",
       "50%      102.000000\n",
       "75%      150.000000\n",
       "max      837.000000"
      ]
     },
     "execution_count": 11,
     "metadata": {},
     "output_type": "execute_result"
    }
   ],
   "source": [
    "eggnog_top_species_members_df = eggnog_members_df.sort_values('SpeciesCount', ascending=False).head(n_top_vogs)\n",
    "eggnog_top_species_members_df[['SpeciesCount']].describe()"
   ]
  },
  {
   "cell_type": "code",
   "execution_count": 12,
   "metadata": {},
   "outputs": [
    {
     "data": {
      "image/png": "[encoded data removed]",
      "text/plain": [
       "<Figure size 864x288 with 2 Axes>"
      ]
     },
     "metadata": {},
     "output_type": "display_data"
    }
   ],
   "source": [
    "fig = plt.figure(figsize=(12,4))\n",
    "\n",
    "plt.subplot(1, 2, 1)\n",
    "ax = sns.distplot(eggnog_top_proteins_members_df['ProteinCount'], kde=False)\n",
    "plt.title('Top 1% Protein Count Distribution')\n",
    "\n",
    "plt.subplot(1, 2, 2)\n",
    "ax = sns.distplot(eggnog_top_species_members_df['SpeciesCount'], kde=False)\n",
    "plt.title('Top 1% Species Count Distribution')\n",
    "\n",
    "plt.show()"
   ]
  },
  {
   "cell_type": "markdown",
   "metadata": {},
   "source": [
    "<span style=\"color:darkgreen;font-weight:bold;\">\n",
    "Larger groups are also only half the size, when compared to VOGDB.\n",
    "</span>"
   ]
  },
  {
   "cell_type": "markdown",
   "metadata": {},
   "source": [
    "## eggNOG annotations"
   ]
  },
  {
   "cell_type": "code",
   "execution_count": 13,
   "metadata": {},
   "outputs": [
    {
     "data": {
      "text/html": [
       "<div>\n",
       "<style scoped>\n",
       "    .dataframe tbody tr th:only-of-type {\n",
       "        vertical-align: middle;\n",
       "    }\n",
       "\n",
       "    .dataframe tbody tr th {\n",
       "        vertical-align: top;\n",
       "    }\n",
       "\n",
       "    .dataframe thead th {\n",
       "        text-align: right;\n",
       "    }\n",
       "</style>\n",
       "<table border=\"1\" class=\"dataframe\">\n",
       "  <thead>\n",
       "    <tr style=\"text-align: right;\">\n",
       "      <th></th>\n",
       "      <th>TaxonomicLevel</th>\n",
       "      <th>GroupName</th>\n",
       "      <th>COGFunctionalCategory</th>\n",
       "      <th>ConsensusFunctionalDescription</th>\n",
       "    </tr>\n",
       "  </thead>\n",
       "  <tbody>\n",
       "    <tr>\n",
       "      <th>0</th>\n",
       "      <td>10239</td>\n",
       "      <td>4QAIH</td>\n",
       "      <td>S</td>\n",
       "      <td>NaN</td>\n",
       "    </tr>\n",
       "    <tr>\n",
       "      <th>1</th>\n",
       "      <td>10239</td>\n",
       "      <td>4QAII</td>\n",
       "      <td>S</td>\n",
       "      <td>NaN</td>\n",
       "    </tr>\n",
       "    <tr>\n",
       "      <th>2</th>\n",
       "      <td>10239</td>\n",
       "      <td>4QAIJ</td>\n",
       "      <td>S</td>\n",
       "      <td>C-5 cytosine-specific DNA methylase</td>\n",
       "    </tr>\n",
       "    <tr>\n",
       "      <th>3</th>\n",
       "      <td>10239</td>\n",
       "      <td>4QAIK</td>\n",
       "      <td>S</td>\n",
       "      <td>bis(5'-nucleosyl)-tetraphosphatase (symmetrica...</td>\n",
       "    </tr>\n",
       "    <tr>\n",
       "      <th>4</th>\n",
       "      <td>10239</td>\n",
       "      <td>4QAIM</td>\n",
       "      <td>S</td>\n",
       "      <td>NaN</td>\n",
       "    </tr>\n",
       "  </tbody>\n",
       "</table>\n",
       "</div>"
      ],
      "text/plain": [
       "   TaxonomicLevel GroupName COGFunctionalCategory  \\\n",
       "0           10239     4QAIH                     S   \n",
       "1           10239     4QAII                     S   \n",
       "2           10239     4QAIJ                     S   \n",
       "3           10239     4QAIK                     S   \n",
       "4           10239     4QAIM                     S   \n",
       "\n",
       "                      ConsensusFunctionalDescription  \n",
       "0                                                NaN  \n",
       "1                                                NaN  \n",
       "2                C-5 cytosine-specific DNA methylase  \n",
       "3  bis(5'-nucleosyl)-tetraphosphatase (symmetrica...  \n",
       "4                                                NaN  "
      ]
     },
     "execution_count": 13,
     "metadata": {},
     "output_type": "execute_result"
    }
   ],
   "source": [
    "eggnog_annotations_df.head()"
   ]
  },
  {
   "cell_type": "code",
   "execution_count": 14,
   "metadata": {},
   "outputs": [
    {
     "name": "stdout",
     "output_type": "stream",
     "text": [
      "Number of NaN cells: 6505\n"
     ]
    }
   ],
   "source": [
    "print('Number of NaN cells:', eggnog_annotations_df.isna().sum().sum())"
   ]
  },
  {
   "cell_type": "code",
   "execution_count": 15,
   "metadata": {},
   "outputs": [
    {
     "name": "stdout",
     "output_type": "stream",
     "text": [
      "NaN columns: ['ConsensusFunctionalDescription']\n"
     ]
    }
   ],
   "source": [
    "print('NaN columns:', eggnog_annotations_df.columns[eggnog_annotations_df.isna().any()].tolist())"
   ]
  },
  {
   "cell_type": "markdown",
   "metadata": {},
   "source": [
    "We drop the column \"TaxonomicLevel\", since this is the level-ID of viruses, and there are only viruses in VOGs."
   ]
  },
  {
   "cell_type": "code",
   "execution_count": 16,
   "metadata": {},
   "outputs": [
    {
     "data": {
      "text/html": [
       "<div>\n",
       "<style scoped>\n",
       "    .dataframe tbody tr th:only-of-type {\n",
       "        vertical-align: middle;\n",
       "    }\n",
       "\n",
       "    .dataframe tbody tr th {\n",
       "        vertical-align: top;\n",
       "    }\n",
       "\n",
       "    .dataframe thead th {\n",
       "        text-align: right;\n",
       "    }\n",
       "</style>\n",
       "<table border=\"1\" class=\"dataframe\">\n",
       "  <thead>\n",
       "    <tr style=\"text-align: right;\">\n",
       "      <th></th>\n",
       "      <th>GroupName</th>\n",
       "      <th>COGFunctionalCategory</th>\n",
       "      <th>ConsensusFunctionalDescription</th>\n",
       "    </tr>\n",
       "  </thead>\n",
       "  <tbody>\n",
       "    <tr>\n",
       "      <th>0</th>\n",
       "      <td>4QAIH</td>\n",
       "      <td>S</td>\n",
       "      <td>NaN</td>\n",
       "    </tr>\n",
       "    <tr>\n",
       "      <th>1</th>\n",
       "      <td>4QAII</td>\n",
       "      <td>S</td>\n",
       "      <td>NaN</td>\n",
       "    </tr>\n",
       "    <tr>\n",
       "      <th>2</th>\n",
       "      <td>4QAIJ</td>\n",
       "      <td>S</td>\n",
       "      <td>C-5 cytosine-specific DNA methylase</td>\n",
       "    </tr>\n",
       "    <tr>\n",
       "      <th>3</th>\n",
       "      <td>4QAIK</td>\n",
       "      <td>S</td>\n",
       "      <td>bis(5'-nucleosyl)-tetraphosphatase (symmetrica...</td>\n",
       "    </tr>\n",
       "    <tr>\n",
       "      <th>4</th>\n",
       "      <td>4QAIM</td>\n",
       "      <td>S</td>\n",
       "      <td>NaN</td>\n",
       "    </tr>\n",
       "  </tbody>\n",
       "</table>\n",
       "</div>"
      ],
      "text/plain": [
       "  GroupName COGFunctionalCategory  \\\n",
       "0     4QAIH                     S   \n",
       "1     4QAII                     S   \n",
       "2     4QAIJ                     S   \n",
       "3     4QAIK                     S   \n",
       "4     4QAIM                     S   \n",
       "\n",
       "                      ConsensusFunctionalDescription  \n",
       "0                                                NaN  \n",
       "1                                                NaN  \n",
       "2                C-5 cytosine-specific DNA methylase  \n",
       "3  bis(5'-nucleosyl)-tetraphosphatase (symmetrica...  \n",
       "4                                                NaN  "
      ]
     },
     "execution_count": 16,
     "metadata": {},
     "output_type": "execute_result"
    }
   ],
   "source": [
    "eggnog_annotations_df.drop(['TaxonomicLevel'], axis=1, inplace=True)\n",
    "eggnog_annotations_df.head()"
   ]
  },
  {
   "cell_type": "code",
   "execution_count": 17,
   "metadata": {},
   "outputs": [
    {
     "data": {
      "text/html": [
       "<div>\n",
       "<style scoped>\n",
       "    .dataframe tbody tr th:only-of-type {\n",
       "        vertical-align: middle;\n",
       "    }\n",
       "\n",
       "    .dataframe tbody tr th {\n",
       "        vertical-align: top;\n",
       "    }\n",
       "\n",
       "    .dataframe thead th {\n",
       "        text-align: right;\n",
       "    }\n",
       "</style>\n",
       "<table border=\"1\" class=\"dataframe\">\n",
       "  <thead>\n",
       "    <tr style=\"text-align: right;\">\n",
       "      <th></th>\n",
       "      <th>GroupName</th>\n",
       "      <th>COGFunctionalCategory</th>\n",
       "      <th>ConsensusFunctionalDescription</th>\n",
       "      <th>BroadFunctionalCategory</th>\n",
       "    </tr>\n",
       "  </thead>\n",
       "  <tbody>\n",
       "    <tr>\n",
       "      <th>0</th>\n",
       "      <td>4QAIH</td>\n",
       "      <td>S</td>\n",
       "      <td>NaN</td>\n",
       "      <td>POOR</td>\n",
       "    </tr>\n",
       "    <tr>\n",
       "      <th>1</th>\n",
       "      <td>4QAII</td>\n",
       "      <td>S</td>\n",
       "      <td>NaN</td>\n",
       "      <td>POOR</td>\n",
       "    </tr>\n",
       "    <tr>\n",
       "      <th>2</th>\n",
       "      <td>4QAIJ</td>\n",
       "      <td>S</td>\n",
       "      <td>C-5 cytosine-specific DNA methylase</td>\n",
       "      <td>POOR</td>\n",
       "    </tr>\n",
       "    <tr>\n",
       "      <th>3</th>\n",
       "      <td>4QAIK</td>\n",
       "      <td>S</td>\n",
       "      <td>bis(5'-nucleosyl)-tetraphosphatase (symmetrica...</td>\n",
       "      <td>POOR</td>\n",
       "    </tr>\n",
       "    <tr>\n",
       "      <th>4</th>\n",
       "      <td>4QAIM</td>\n",
       "      <td>S</td>\n",
       "      <td>NaN</td>\n",
       "      <td>POOR</td>\n",
       "    </tr>\n",
       "  </tbody>\n",
       "</table>\n",
       "</div>"
      ],
      "text/plain": [
       "  GroupName COGFunctionalCategory  \\\n",
       "0     4QAIH                     S   \n",
       "1     4QAII                     S   \n",
       "2     4QAIJ                     S   \n",
       "3     4QAIK                     S   \n",
       "4     4QAIM                     S   \n",
       "\n",
       "                      ConsensusFunctionalDescription BroadFunctionalCategory  \n",
       "0                                                NaN                    POOR  \n",
       "1                                                NaN                    POOR  \n",
       "2                C-5 cytosine-specific DNA methylase                    POOR  \n",
       "3  bis(5'-nucleosyl)-tetraphosphatase (symmetrica...                    POOR  \n",
       "4                                                NaN                    POOR  "
      ]
     },
     "execution_count": 17,
     "metadata": {},
     "output_type": "execute_result"
    }
   ],
   "source": [
    "broad_cat = {'J': 'INFO', 'A': 'INFO', 'K': 'INFO', 'L': 'INFO', 'B': 'INFO', # INFORMATION STORAGE AND PROCESSING\n",
    "             'D': 'CELL', 'Y': 'CELL', 'V': 'CELL', 'T': 'CELL', 'M': 'CELL', 'N': 'CELL', 'Z': 'CELL', 'W': 'CELL', 'U': 'CELL', 'O': 'CELL', # CELLULAR PROCESSES AND SIGNALING\n",
    "             'C': 'META', 'G': 'META', 'E': 'META', 'F': 'META', 'H': 'META', 'I': 'META', 'P': 'META', 'Q': 'META', # METABOLISM\n",
    "             'R': 'POOR', 'S': 'POOR'}   # POORLY CHARACTERIZED\n",
    "\n",
    "eggnog_annotations_df['BroadFunctionalCategory'] = eggnog_annotations_df['COGFunctionalCategory'].map(broad_cat)\n",
    "eggnog_annotations_df.head()"
   ]
  },
  {
   "cell_type": "code",
   "execution_count": 18,
   "metadata": {},
   "outputs": [],
   "source": [
    "eggnog_annotations_df['INFO'] = eggnog_annotations_df['BroadFunctionalCategory'].str.contains('INFO').astype(int)\n",
    "eggnog_annotations_df['CELL'] = eggnog_annotations_df['BroadFunctionalCategory'].str.contains('CELL').astype(int)\n",
    "eggnog_annotations_df['META'] = eggnog_annotations_df['BroadFunctionalCategory'].str.contains('META').astype(int)\n",
    "eggnog_annotations_df['POOR'] = eggnog_annotations_df['BroadFunctionalCategory'].str.contains('POOR').astype(int)"
   ]
  },
  {
   "cell_type": "code",
   "execution_count": 19,
   "metadata": {},
   "outputs": [
    {
     "data": {
      "text/html": [
       "<div>\n",
       "<style scoped>\n",
       "    .dataframe tbody tr th:only-of-type {\n",
       "        vertical-align: middle;\n",
       "    }\n",
       "\n",
       "    .dataframe tbody tr th {\n",
       "        vertical-align: top;\n",
       "    }\n",
       "\n",
       "    .dataframe thead th {\n",
       "        text-align: right;\n",
       "    }\n",
       "</style>\n",
       "<table border=\"1\" class=\"dataframe\">\n",
       "  <thead>\n",
       "    <tr style=\"text-align: right;\">\n",
       "      <th></th>\n",
       "      <th>GroupName</th>\n",
       "      <th>COGFunctionalCategory</th>\n",
       "      <th>ConsensusFunctionalDescription</th>\n",
       "      <th>BroadFunctionalCategory</th>\n",
       "      <th>INFO</th>\n",
       "      <th>CELL</th>\n",
       "      <th>META</th>\n",
       "      <th>POOR</th>\n",
       "    </tr>\n",
       "  </thead>\n",
       "  <tbody>\n",
       "    <tr>\n",
       "      <th>0</th>\n",
       "      <td>4QAIH</td>\n",
       "      <td>S</td>\n",
       "      <td>NaN</td>\n",
       "      <td>POOR</td>\n",
       "      <td>0</td>\n",
       "      <td>0</td>\n",
       "      <td>0</td>\n",
       "      <td>1</td>\n",
       "    </tr>\n",
       "    <tr>\n",
       "      <th>1</th>\n",
       "      <td>4QAII</td>\n",
       "      <td>S</td>\n",
       "      <td>NaN</td>\n",
       "      <td>POOR</td>\n",
       "      <td>0</td>\n",
       "      <td>0</td>\n",
       "      <td>0</td>\n",
       "      <td>1</td>\n",
       "    </tr>\n",
       "    <tr>\n",
       "      <th>2</th>\n",
       "      <td>4QAIJ</td>\n",
       "      <td>S</td>\n",
       "      <td>C-5 cytosine-specific DNA methylase</td>\n",
       "      <td>POOR</td>\n",
       "      <td>0</td>\n",
       "      <td>0</td>\n",
       "      <td>0</td>\n",
       "      <td>1</td>\n",
       "    </tr>\n",
       "    <tr>\n",
       "      <th>3</th>\n",
       "      <td>4QAIK</td>\n",
       "      <td>S</td>\n",
       "      <td>bis(5'-nucleosyl)-tetraphosphatase (symmetrica...</td>\n",
       "      <td>POOR</td>\n",
       "      <td>0</td>\n",
       "      <td>0</td>\n",
       "      <td>0</td>\n",
       "      <td>1</td>\n",
       "    </tr>\n",
       "    <tr>\n",
       "      <th>4</th>\n",
       "      <td>4QAIM</td>\n",
       "      <td>S</td>\n",
       "      <td>NaN</td>\n",
       "      <td>POOR</td>\n",
       "      <td>0</td>\n",
       "      <td>0</td>\n",
       "      <td>0</td>\n",
       "      <td>1</td>\n",
       "    </tr>\n",
       "  </tbody>\n",
       "</table>\n",
       "</div>"
      ],
      "text/plain": [
       "  GroupName COGFunctionalCategory  \\\n",
       "0     4QAIH                     S   \n",
       "1     4QAII                     S   \n",
       "2     4QAIJ                     S   \n",
       "3     4QAIK                     S   \n",
       "4     4QAIM                     S   \n",
       "\n",
       "                      ConsensusFunctionalDescription BroadFunctionalCategory  \\\n",
       "0                                                NaN                    POOR   \n",
       "1                                                NaN                    POOR   \n",
       "2                C-5 cytosine-specific DNA methylase                    POOR   \n",
       "3  bis(5'-nucleosyl)-tetraphosphatase (symmetrica...                    POOR   \n",
       "4                                                NaN                    POOR   \n",
       "\n",
       "   INFO  CELL  META  POOR  \n",
       "0     0     0     0     1  \n",
       "1     0     0     0     1  \n",
       "2     0     0     0     1  \n",
       "3     0     0     0     1  \n",
       "4     0     0     0     1  "
      ]
     },
     "execution_count": 19,
     "metadata": {},
     "output_type": "execute_result"
    }
   ],
   "source": [
    "eggnog_annotations_df.head()"
   ]
  },
  {
   "cell_type": "code",
   "execution_count": 20,
   "metadata": {},
   "outputs": [
    {
     "data": {
      "image/png": "[encoded data removed]",
      "text/plain": [
       "<Figure size 864x288 with 2 Axes>"
      ]
     },
     "metadata": {},
     "output_type": "display_data"
    }
   ],
   "source": [
    "fig = plt.figure(figsize=(12, 4))\n",
    "\n",
    "plt.subplot(1, 2, 1)\n",
    "ax = eggnog_annotations_df[['INFO','CELL','META','POOR']].sum().plot.bar()\n",
    "plt.title('Broad Functional Categories')\n",
    "\n",
    "plt.subplot(1, 2, 2)\n",
    "ax = eggnog_annotations_df[['INFO','CELL','META']].sum().plot.bar()\n",
    "plt.title('Broad Functional Categories without POOR')\n",
    "\n",
    "plt.show()"
   ]
  },
  {
   "cell_type": "markdown",
   "metadata": {},
   "source": [
    "<span style=\"color:darkgreen;font-weight:bold;\">\n",
    "Most groups are poorly characterized.\n",
    "</span>"
   ]
  },
  {
   "cell_type": "markdown",
   "metadata": {},
   "source": [
    "## Top 1% eggNOG annotations\n",
    "\n",
    "Exploring functional characterization for the top 1% of VOGs having the most proteins or species."
   ]
  },
  {
   "cell_type": "code",
   "execution_count": 21,
   "metadata": {},
   "outputs": [],
   "source": [
    "eggnog_merge_df = pd.merge(eggnog_members_df, eggnog_annotations_df, on='GroupName')\n",
    "eggnog_merge_df.drop(['ProteinIDs','COGFunctionalCategory','ConsensusFunctionalDescription'], axis=1, inplace=True)"
   ]
  },
  {
   "cell_type": "code",
   "execution_count": 22,
   "metadata": {},
   "outputs": [],
   "source": [
    "eggnog_top_proteins_merge_df = eggnog_merge_df.sort_values('ProteinCount', ascending=False).head(n_top_vogs)\n",
    "eggnog_top_species_merge_df = eggnog_merge_df.sort_values('SpeciesCount', ascending=False).head(n_top_vogs)"
   ]
  },
  {
   "cell_type": "code",
   "execution_count": 23,
   "metadata": {},
   "outputs": [
    {
     "data": {
      "image/png": "[encoded data removed]",
      "text/plain": [
       "<Figure size 864x576 with 4 Axes>"
      ]
     },
     "metadata": {},
     "output_type": "display_data"
    }
   ],
   "source": [
    "fig = plt.figure(figsize=(12, 8))\n",
    "\n",
    "plt.subplot(2, 2, 1)\n",
    "ax = eggnog_top_proteins_merge_df[['INFO','CELL','META','POOR']].sum().plot.bar()\n",
    "plt.title('Broad Functional Categories \\n for Top 1% Protein Count')\n",
    "\n",
    "plt.subplot(2, 2, 2)\n",
    "ax = eggnog_top_proteins_merge_df[['INFO','CELL','META']].sum().plot.bar()\n",
    "plt.title('Broad Functional Categories \\n for Top 1% Protein Count without POOR')\n",
    "\n",
    "plt.subplot(2, 2, 3)\n",
    "ax = eggnog_top_species_merge_df[['INFO','CELL','META','POOR']].sum().plot.bar()\n",
    "plt.title('Broad Functional Categories \\n for Top 1% Species Count')\n",
    "\n",
    "plt.subplot(2, 2, 4)\n",
    "ax = eggnog_top_species_merge_df[['INFO','CELL','META']].sum().plot.bar()\n",
    "plt.title('Broad Functional Categories \\n for Top 1% Species Count without POOR')\n",
    "\n",
    "plt.tight_layout()\n",
    "plt.show()"
   ]
  },
  {
   "cell_type": "markdown",
   "metadata": {},
   "source": [
    "<span style=\"color:darkgreen;font-weight:bold;\">\n",
    "Larger groups are still poorly characterized, no improvement like we have in VOGDB.\n",
    "</span>"
   ]
  },
  {
   "cell_type": "markdown",
   "metadata": {},
   "source": [
    "## eggNOG trees"
   ]
  },
  {
   "cell_type": "code",
   "execution_count": 24,
   "metadata": {},
   "outputs": [
    {
     "data": {
      "text/html": [
       "<div>\n",
       "<style scoped>\n",
       "    .dataframe tbody tr th:only-of-type {\n",
       "        vertical-align: middle;\n",
       "    }\n",
       "\n",
       "    .dataframe tbody tr th {\n",
       "        vertical-align: top;\n",
       "    }\n",
       "\n",
       "    .dataframe thead th {\n",
       "        text-align: right;\n",
       "    }\n",
       "</style>\n",
       "<table border=\"1\" class=\"dataframe\">\n",
       "  <thead>\n",
       "    <tr style=\"text-align: right;\">\n",
       "      <th></th>\n",
       "      <th>TaxonomicLevel</th>\n",
       "      <th>GroupName</th>\n",
       "      <th>SequenceAlignmentMethod</th>\n",
       "      <th>NewickTree</th>\n",
       "    </tr>\n",
       "  </thead>\n",
       "  <tbody>\n",
       "    <tr>\n",
       "      <th>0</th>\n",
       "      <td>10239</td>\n",
       "      <td>4QAIH</td>\n",
       "      <td>fast</td>\n",
       "      <td>((948870.I7HXC4_9CAUD:1)1:1,1229753.K7QJT8_9CA...</td>\n",
       "    </tr>\n",
       "    <tr>\n",
       "      <th>1</th>\n",
       "      <td>10239</td>\n",
       "      <td>4QAII</td>\n",
       "      <td>fast</td>\n",
       "      <td>((1337877.R9VYA7_9CAUD:1)1:1,1589751.A0A0C5AES...</td>\n",
       "    </tr>\n",
       "    <tr>\n",
       "      <th>2</th>\n",
       "      <td>10239</td>\n",
       "      <td>4QAIJ</td>\n",
       "      <td>fast</td>\n",
       "      <td>(((((146269.A8YQM6_9CAUD:0.639323,(1589751.A0A...</td>\n",
       "    </tr>\n",
       "    <tr>\n",
       "      <th>3</th>\n",
       "      <td>10239</td>\n",
       "      <td>4QAIK</td>\n",
       "      <td>fast</td>\n",
       "      <td>(((1084719.G3MA97_9CAUD:1.04223,((((756282.M4S...</td>\n",
       "    </tr>\n",
       "    <tr>\n",
       "      <th>4</th>\n",
       "      <td>10239</td>\n",
       "      <td>4QAIM</td>\n",
       "      <td>fast</td>\n",
       "      <td>((260149.E5DSM2_9CAUD:1)1:1,1204516.I6XLJ7_9CA...</td>\n",
       "    </tr>\n",
       "  </tbody>\n",
       "</table>\n",
       "</div>"
      ],
      "text/plain": [
       "   TaxonomicLevel GroupName SequenceAlignmentMethod  \\\n",
       "0           10239     4QAIH                    fast   \n",
       "1           10239     4QAII                    fast   \n",
       "2           10239     4QAIJ                    fast   \n",
       "3           10239     4QAIK                    fast   \n",
       "4           10239     4QAIM                    fast   \n",
       "\n",
       "                                          NewickTree  \n",
       "0  ((948870.I7HXC4_9CAUD:1)1:1,1229753.K7QJT8_9CA...  \n",
       "1  ((1337877.R9VYA7_9CAUD:1)1:1,1589751.A0A0C5AES...  \n",
       "2  (((((146269.A8YQM6_9CAUD:0.639323,(1589751.A0A...  \n",
       "3  (((1084719.G3MA97_9CAUD:1.04223,((((756282.M4S...  \n",
       "4  ((260149.E5DSM2_9CAUD:1)1:1,1204516.I6XLJ7_9CA...  "
      ]
     },
     "execution_count": 24,
     "metadata": {},
     "output_type": "execute_result"
    }
   ],
   "source": [
    "eggnog_trees_df.head()"
   ]
  },
  {
   "cell_type": "markdown",
   "metadata": {},
   "source": [
    "We drop colulmn \"SequenceAlignmentMethod\", because we don't know what this is (due to missing README.txt in eggNOG 5.0)"
   ]
  },
  {
   "cell_type": "code",
   "execution_count": 25,
   "metadata": {},
   "outputs": [],
   "source": [
    "eggnog_trees_df.drop(['SequenceAlignmentMethod'], axis=1, inplace=True) "
   ]
  },
  {
   "cell_type": "markdown",
   "metadata": {},
   "source": [
    "### Annotate trees with NCBI and get LCA"
   ]
  },
  {
   "cell_type": "code",
   "execution_count": 26,
   "metadata": {},
   "outputs": [
    {
     "data": {
      "text/html": [
       "<div>\n",
       "<style scoped>\n",
       "    .dataframe tbody tr th:only-of-type {\n",
       "        vertical-align: middle;\n",
       "    }\n",
       "\n",
       "    .dataframe tbody tr th {\n",
       "        vertical-align: top;\n",
       "    }\n",
       "\n",
       "    .dataframe thead th {\n",
       "        text-align: right;\n",
       "    }\n",
       "</style>\n",
       "<table border=\"1\" class=\"dataframe\">\n",
       "  <thead>\n",
       "    <tr style=\"text-align: right;\">\n",
       "      <th></th>\n",
       "      <th>TaxonomicLevel</th>\n",
       "      <th>GroupName</th>\n",
       "      <th>NewickTree</th>\n",
       "      <th>LCA</th>\n",
       "    </tr>\n",
       "  </thead>\n",
       "  <tbody>\n",
       "    <tr>\n",
       "      <th>0</th>\n",
       "      <td>10239</td>\n",
       "      <td>4QAIH</td>\n",
       "      <td>((948870.I7HXC4_9CAUD:1)1:1,1229753.K7QJT8_9CA...</td>\n",
       "      <td>Viruses</td>\n",
       "    </tr>\n",
       "    <tr>\n",
       "      <th>1</th>\n",
       "      <td>10239</td>\n",
       "      <td>4QAII</td>\n",
       "      <td>((1337877.R9VYA7_9CAUD:1)1:1,1589751.A0A0C5AES...</td>\n",
       "      <td>Viruses</td>\n",
       "    </tr>\n",
       "    <tr>\n",
       "      <th>2</th>\n",
       "      <td>10239</td>\n",
       "      <td>4QAIJ</td>\n",
       "      <td>(((((146269.A8YQM6_9CAUD:0.639323,(1589751.A0A...</td>\n",
       "      <td>Viruses</td>\n",
       "    </tr>\n",
       "    <tr>\n",
       "      <th>3</th>\n",
       "      <td>10239</td>\n",
       "      <td>4QAIK</td>\n",
       "      <td>(((1084719.G3MA97_9CAUD:1.04223,((((756282.M4S...</td>\n",
       "      <td>Viruses</td>\n",
       "    </tr>\n",
       "    <tr>\n",
       "      <th>4</th>\n",
       "      <td>10239</td>\n",
       "      <td>4QAIM</td>\n",
       "      <td>((260149.E5DSM2_9CAUD:1)1:1,1204516.I6XLJ7_9CA...</td>\n",
       "      <td>Viruses</td>\n",
       "    </tr>\n",
       "  </tbody>\n",
       "</table>\n",
       "</div>"
      ],
      "text/plain": [
       "   TaxonomicLevel GroupName  \\\n",
       "0           10239     4QAIH   \n",
       "1           10239     4QAII   \n",
       "2           10239     4QAIJ   \n",
       "3           10239     4QAIK   \n",
       "4           10239     4QAIM   \n",
       "\n",
       "                                          NewickTree      LCA  \n",
       "0  ((948870.I7HXC4_9CAUD:1)1:1,1229753.K7QJT8_9CA...  Viruses  \n",
       "1  ((1337877.R9VYA7_9CAUD:1)1:1,1589751.A0A0C5AES...  Viruses  \n",
       "2  (((((146269.A8YQM6_9CAUD:0.639323,(1589751.A0A...  Viruses  \n",
       "3  (((1084719.G3MA97_9CAUD:1.04223,((((756282.M4S...  Viruses  \n",
       "4  ((260149.E5DSM2_9CAUD:1)1:1,1204516.I6XLJ7_9CA...  Viruses  "
      ]
     },
     "execution_count": 26,
     "metadata": {},
     "output_type": "execute_result"
    }
   ],
   "source": [
    "from ete3 import Tree, NCBITaxa\n",
    "\n",
    "rank_dict = {'superkingdom':1, 'clade':2, 'kingdom':3, 'subkingdom':4, \n",
    "             'phylum':5, 'subphylum':6, 'class':7, 'subclass':8, 'order':9, \n",
    "             'suborder':10, 'family':11, 'subfamily':12, 'genus':13}\n",
    "\n",
    "def get_lca_string(newick):\n",
    "    \n",
    "    # Load tree and get taxIDs\n",
    "    ncbi = NCBITaxa()\n",
    "    tree = Tree(newick)\n",
    "    taxids = []\n",
    "    for l in tree.get_leaf_names():\n",
    "        taxids.append(l[:l.index('.')])\n",
    "    \n",
    "    # Get topology for taxIDs from NCBI\n",
    "    ncbi_tree = ncbi.get_topology(taxids, intermediate_nodes=True)   \n",
    "\n",
    "    # Traverse and prune for nodes we want\n",
    "    nodes = []\n",
    "    for node in ncbi_tree.traverse('levelorder'):\n",
    "        if node.rank in rank_dict.keys():\n",
    "            nodes.append(node)\n",
    "    ncbi_tree.prune(nodes)\n",
    "\n",
    "    # Traverse and get linage\n",
    "    lca = []\n",
    "    prev_rank_value = 0\n",
    "    for node in ncbi_tree.traverse('levelorder'):\n",
    "\n",
    "        # BUG some low level rank nodes survive the prune, when I single out the problematic trees this doesn't happen, so we just skip over these nodes.\n",
    "        try:\n",
    "            rank_value = rank_dict[node.rank]\n",
    "        except KeyError as e:\n",
    "            continue\n",
    "        \n",
    "        if rank_value <= prev_rank_value:\n",
    "            del lca[-1]\n",
    "            break\n",
    "        else:\n",
    "            lca.append(node.sci_name)\n",
    "            prev_rank_value = rank_value\n",
    "            \n",
    "    return ';'.join(lca)\n",
    "\n",
    "\n",
    "eggnog_trees_df['LCA'] = eggnog_trees_df.apply(lambda row: get_lca_string(row['NewickTree']), axis=1)\n",
    "eggnog_trees_df.head()"
   ]
  },
  {
   "cell_type": "code",
   "execution_count": 27,
   "metadata": {},
   "outputs": [
    {
     "name": "stdout",
     "output_type": "stream",
     "text": [
      "Number of NaNs in LCA column: 0\n",
      "Number of empty strings in LCA column: 0\n"
     ]
    }
   ],
   "source": [
    "print('Number of NaNs in LCA column:', eggnog_trees_df['LCA'].isna().sum())\n",
    "print('Number of empty strings in LCA column:', (eggnog_trees_df['LCA'] == '').sum())"
   ]
  },
  {
   "cell_type": "code",
   "execution_count": 28,
   "metadata": {},
   "outputs": [
    {
     "name": "stdout",
     "output_type": "stream",
     "text": [
      "Is there an undefined taxonomic level count? False\n"
     ]
    }
   ],
   "source": [
    "def count_taxonomic_levels(lca):\n",
    "    \"\"\"Counts terms in LCA column to quantify taxonomic accuracy.\"\"\"\n",
    "    n_levels = -1;\n",
    "    \n",
    "    if (pd.isnull(lca)):\n",
    "        n_levels = 0\n",
    "    elif (lca == 'Viruses'):\n",
    "        n_levels = 1\n",
    "    else:\n",
    "        n_levels = lca.count(';') + 1\n",
    "        \n",
    "    return n_levels\n",
    "\n",
    "\n",
    "eggnog_trees_df['N_taxonomic_levels'] = eggnog_trees_df.apply(lambda row: count_taxonomic_levels(row['LCA']), axis=1)\n",
    "\n",
    "print('Is there an undefined taxonomic level count?', -1 in eggnog_trees_df['N_taxonomic_levels'])"
   ]
  },
  {
   "cell_type": "code",
   "execution_count": 29,
   "metadata": {},
   "outputs": [
    {
     "data": {
      "text/plain": [
       "count    8319.000000\n",
       "mean        2.150619\n",
       "std         2.603987\n",
       "min         1.000000\n",
       "25%         1.000000\n",
       "50%         1.000000\n",
       "75%         1.000000\n",
       "max        10.000000\n",
       "Name: N_taxonomic_levels, dtype: float64"
      ]
     },
     "execution_count": 29,
     "metadata": {},
     "output_type": "execute_result"
    }
   ],
   "source": [
    "eggnog_trees_df['N_taxonomic_levels'].describe()"
   ]
  },
  {
   "cell_type": "code",
   "execution_count": 30,
   "metadata": {},
   "outputs": [
    {
     "data": {
      "image/png": "[encoded data removed]",
      "text/plain": [
       "<Figure size 864x288 with 2 Axes>"
      ]
     },
     "metadata": {},
     "output_type": "display_data"
    }
   ],
   "source": [
    "fig = plt.figure(figsize=(12,4))\n",
    "\n",
    "plt.subplot(1, 2, 1)\n",
    "ax = sns.distplot(eggnog_trees_df['N_taxonomic_levels'], kde=False, bins=10)\n",
    "plt.title('LCA Taxonomic Levels Distribution')\n",
    "#plt.xticks(np.arange(0, 10, 1.0))\n",
    "\n",
    "plt.subplot(1, 2, 2)\n",
    "ax = eggnog_trees_df.boxplot(column='N_taxonomic_levels')\n",
    "plt.title('Boxplot LCA Taxonomic Levels')\n",
    "\n",
    "plt.show()"
   ]
  },
  {
   "cell_type": "markdown",
   "metadata": {},
   "source": [
    "<span style=\"color:darkgreen;font-weight: bold;\">\n",
    "Compared to VOGDB, eggNOG has a lower resolution for the lineage.\n",
    "</span>"
   ]
  }
 ],
 "metadata": {
  "kernelspec": {
   "display_name": "Python 3",
   "language": "python",
   "name": "python3"
  },
  "language_info": {
   "codemirror_mode": {
    "name": "ipython",
    "version": 3
   },
   "file_extension": ".py",
   "mimetype": "text/x-python",
   "name": "python",
   "nbconvert_exporter": "python",
   "pygments_lexer": "ipython3",
   "version": "3.7.6"
  }
 },
 "nbformat": 4,
 "nbformat_minor": 4
}
